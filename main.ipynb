{
 "cells": [
  {
   "cell_type": "markdown",
   "metadata": {
    "pycharm": {
     "name": "#%% md\n"
    }
   },
   "source": [
    "# Research on Borrower Reliability\n",
    "\n",
    "Client: The credit department of the bank. The task is to investigate whether the marital status and the number of children of a client influence the timely repayment of a loan. The input data from the bank includes statistics on the solvency of clients.\n",
    "\n",
    "The research findings will be taken into account in the construction of a **credit scoring** model — a specialized system that assesses the ability of a potential borrower to repay a loan to the bank."
   ]
  },
  {
   "cell_type": "markdown",
   "metadata": {
    "pycharm": {
     "name": "#%% md\n"
    }
   },
   "source": [
    "## Step 1. Open the data file and review the general information"
   ]
  },
  {
   "cell_type": "code",
   "execution_count": 12,
   "metadata": {
    "pycharm": {
     "name": "#%%\n"
    },
    "ExecuteTime": {
     "end_time": "2024-02-02T13:32:42.925199Z",
     "start_time": "2024-02-02T13:32:42.554066Z"
    }
   },
   "outputs": [
    {
     "data": {
      "text/plain": "   children  days_employed  dob_years education  education_id  \\\n0         1   -8437.673028         42    высшее             0   \n1         1   -4024.803754         36   среднее             1   \n2         0   -5623.422610         33   Среднее             1   \n3         3   -4124.747207         32   среднее             1   \n4         0  340266.072047         53   среднее             1   \n\n      family_status  family_status_id gender income_type  debt   total_income  \\\n0   женат / замужем                 0      F   сотрудник     0  253875.639453   \n1   женат / замужем                 0      F   сотрудник     0  112080.014102   \n2   женат / замужем                 0      M   сотрудник     0  145885.952297   \n3   женат / замужем                 0      M   сотрудник     0  267628.550329   \n4  гражданский брак                 1      F   пенсионер     0  158616.077870   \n\n                      purpose  \n0               покупка жилья  \n1     приобретение автомобиля  \n2               покупка жилья  \n3  дополнительное образование  \n4             сыграть свадьбу  ",
      "text/html": "<div>\n<style scoped>\n    .dataframe tbody tr th:only-of-type {\n        vertical-align: middle;\n    }\n\n    .dataframe tbody tr th {\n        vertical-align: top;\n    }\n\n    .dataframe thead th {\n        text-align: right;\n    }\n</style>\n<table border=\"1\" class=\"dataframe\">\n  <thead>\n    <tr style=\"text-align: right;\">\n      <th></th>\n      <th>children</th>\n      <th>days_employed</th>\n      <th>dob_years</th>\n      <th>education</th>\n      <th>education_id</th>\n      <th>family_status</th>\n      <th>family_status_id</th>\n      <th>gender</th>\n      <th>income_type</th>\n      <th>debt</th>\n      <th>total_income</th>\n      <th>purpose</th>\n    </tr>\n  </thead>\n  <tbody>\n    <tr>\n      <th>0</th>\n      <td>1</td>\n      <td>-8437.673028</td>\n      <td>42</td>\n      <td>высшее</td>\n      <td>0</td>\n      <td>женат / замужем</td>\n      <td>0</td>\n      <td>F</td>\n      <td>сотрудник</td>\n      <td>0</td>\n      <td>253875.639453</td>\n      <td>покупка жилья</td>\n    </tr>\n    <tr>\n      <th>1</th>\n      <td>1</td>\n      <td>-4024.803754</td>\n      <td>36</td>\n      <td>среднее</td>\n      <td>1</td>\n      <td>женат / замужем</td>\n      <td>0</td>\n      <td>F</td>\n      <td>сотрудник</td>\n      <td>0</td>\n      <td>112080.014102</td>\n      <td>приобретение автомобиля</td>\n    </tr>\n    <tr>\n      <th>2</th>\n      <td>0</td>\n      <td>-5623.422610</td>\n      <td>33</td>\n      <td>Среднее</td>\n      <td>1</td>\n      <td>женат / замужем</td>\n      <td>0</td>\n      <td>M</td>\n      <td>сотрудник</td>\n      <td>0</td>\n      <td>145885.952297</td>\n      <td>покупка жилья</td>\n    </tr>\n    <tr>\n      <th>3</th>\n      <td>3</td>\n      <td>-4124.747207</td>\n      <td>32</td>\n      <td>среднее</td>\n      <td>1</td>\n      <td>женат / замужем</td>\n      <td>0</td>\n      <td>M</td>\n      <td>сотрудник</td>\n      <td>0</td>\n      <td>267628.550329</td>\n      <td>дополнительное образование</td>\n    </tr>\n    <tr>\n      <th>4</th>\n      <td>0</td>\n      <td>340266.072047</td>\n      <td>53</td>\n      <td>среднее</td>\n      <td>1</td>\n      <td>гражданский брак</td>\n      <td>1</td>\n      <td>F</td>\n      <td>пенсионер</td>\n      <td>0</td>\n      <td>158616.077870</td>\n      <td>сыграть свадьбу</td>\n    </tr>\n  </tbody>\n</table>\n</div>"
     },
     "metadata": {},
     "output_type": "display_data"
    },
    {
     "name": "stdout",
     "output_type": "stream",
     "text": [
      "<class 'pandas.core.frame.DataFrame'>\n",
      "RangeIndex: 21525 entries, 0 to 21524\n",
      "Data columns (total 12 columns):\n",
      " #   Column            Non-Null Count  Dtype  \n",
      "---  ------            --------------  -----  \n",
      " 0   children          21525 non-null  int64  \n",
      " 1   days_employed     19351 non-null  float64\n",
      " 2   dob_years         21525 non-null  int64  \n",
      " 3   education         21525 non-null  object \n",
      " 4   education_id      21525 non-null  int64  \n",
      " 5   family_status     21525 non-null  object \n",
      " 6   family_status_id  21525 non-null  int64  \n",
      " 7   gender            21525 non-null  object \n",
      " 8   income_type       21525 non-null  object \n",
      " 9   debt              21525 non-null  int64  \n",
      " 10  total_income      19351 non-null  float64\n",
      " 11  purpose           21525 non-null  object \n",
      "dtypes: float64(2), int64(5), object(5)\n",
      "memory usage: 2.0+ MB\n"
     ]
    }
   ],
   "source": [
    "import pandas as pd\n",
    "from IPython.display import display\n",
    "\n",
    "data = pd.read_csv('data.csv')\n",
    "display(data.head())\n",
    "data.info()"
   ]
  },
  {
   "cell_type": "markdown",
   "source": [
    "<a id='general_info'>**Conclusion**</a>\n",
    "\n",
    "The table consists of 12 columns and 21,525 rows. Each row in the table represents data about a client and their loan.\n",
    "\n",
    "According to the documentation for the data:\n",
    "* `children` — the number of children in the family;\n",
    "* `days_employed` — total work experience in days;\n",
    "* `dob_years` — the client's age in years;\n",
    "* `education` — the client's level of education;\n",
    "* `education_id` — the identifier of the education level;\n",
    "* `family_status` — the client's marital status;\n",
    "* `family_status_id` — the identifier of the marital status;\n",
    "* `gender` — the client's gender;\n",
    "* `income_type` — the type of employment;\n",
    "* `debt` — whether the client had a debt on the loan repayment;\n",
    "* `total_income` — monthly income;\n",
    "* `purpose` — the purpose of obtaining the loan.\n",
    "\n",
    "There are missing values in the `total_income` and `days_employed` columns. Also, the data type in these columns is `float`, although based on the nature of the data (number of days and income), it should be `int`. The data types of other columns reflect reality. In the `days_employed` column, there are many negative values, which is also an artifact."
   ],
   "metadata": {
    "collapsed": false,
    "pycharm": {
     "name": "#%% md\n"
    }
   }
  },
  {
   "cell_type": "markdown",
   "source": [
    "## Step 2. Data Preprocessing"
   ],
   "metadata": {
    "collapsed": false,
    "pycharm": {
     "name": "#%% md\n"
    }
   }
  },
  {
   "cell_type": "markdown",
   "source": [
    "### Handling Missing Values"
   ],
   "metadata": {
    "collapsed": false,
    "pycharm": {
     "name": "#%% md\n"
    }
   }
  },
  {
   "cell_type": "markdown",
   "source": [
    "First, let's calculate the number of missing values in the table."
   ],
   "metadata": {
    "collapsed": false,
    "pycharm": {
     "name": "#%% md\n"
    }
   }
  },
  {
   "cell_type": "code",
   "execution_count": 13,
   "outputs": [
    {
     "data": {
      "text/plain": "children               0\ndays_employed       2174\ndob_years              0\neducation              0\neducation_id           0\nfamily_status          0\nfamily_status_id       0\ngender                 0\nincome_type            0\ndebt                   0\ntotal_income        2174\npurpose                0\ndtype: int64"
     },
     "execution_count": 13,
     "metadata": {},
     "output_type": "execute_result"
    }
   ],
   "source": [
    "data.isna().sum()"
   ],
   "metadata": {
    "collapsed": false,
    "pycharm": {
     "name": "#%%\n"
    },
    "ExecuteTime": {
     "end_time": "2024-02-02T13:32:42.934816Z",
     "start_time": "2024-02-02T13:32:42.609036Z"
    }
   }
  },
  {
   "cell_type": "markdown",
   "source": [
    "As we can see, the number of missing values in the `days_employed` and `total_income` columns is the same, and the missing values occur for the same clients. Most likely, the data source simply did not have information about the work experience and income for these clients. The `days_employed` column does not affect the hypothesis testing and the final result, so we can either delete it or fill the missing values with an arbitrary value, such as zero."
   ],
   "metadata": {
    "collapsed": false,
    "pycharm": {
     "name": "#%% md\n"
    }
   }
  },
  {
   "cell_type": "code",
   "execution_count": 14,
   "outputs": [],
   "source": [
    "data['days_employed'] = data['days_employed'].fillna(0)"
   ],
   "metadata": {
    "collapsed": false,
    "pycharm": {
     "name": "#%%\n"
    },
    "ExecuteTime": {
     "end_time": "2024-02-02T13:32:42.936675Z",
     "start_time": "2024-02-02T13:32:42.612825Z"
    }
   }
  },
  {
   "cell_type": "markdown",
   "source": [
    "But missing values in `total_income` can distort the final result. The best option to address these gaps would be to clarify the information with the developer who provided us with this data, but we do not have that option. Therefore, to fill in the missing values, we will calculate the median for each group based on the employment type and assign the corresponding values for each client based on their `income_type`."
   ],
   "metadata": {
    "collapsed": false,
    "pycharm": {
     "name": "#%% md\n"
    }
   }
  },
  {
   "cell_type": "code",
   "execution_count": 15,
   "outputs": [],
   "source": [
    "data['total_income'] = data.groupby(['income_type'])['total_income'].transform(\n",
    "    lambda income: income.fillna(income.median())\n",
    ")"
   ],
   "metadata": {
    "collapsed": false,
    "pycharm": {
     "name": "#%%\n"
    },
    "ExecuteTime": {
     "end_time": "2024-02-02T13:32:42.943350Z",
     "start_time": "2024-02-02T13:32:42.618464Z"
    }
   }
  },
  {
   "cell_type": "markdown",
   "source": [
    "Let's make sure that there are no more missing values in the table."
   ],
   "metadata": {
    "collapsed": false,
    "pycharm": {
     "name": "#%% md\n"
    }
   }
  },
  {
   "cell_type": "code",
   "execution_count": 16,
   "outputs": [
    {
     "data": {
      "text/plain": "children            0\ndays_employed       0\ndob_years           0\neducation           0\neducation_id        0\nfamily_status       0\nfamily_status_id    0\ngender              0\nincome_type         0\ndebt                0\ntotal_income        0\npurpose             0\ndtype: int64"
     },
     "execution_count": 16,
     "metadata": {},
     "output_type": "execute_result"
    }
   ],
   "source": [
    "data.isna().sum()"
   ],
   "metadata": {
    "collapsed": false,
    "pycharm": {
     "name": "#%%\n"
    },
    "ExecuteTime": {
     "end_time": "2024-02-02T13:32:42.945405Z",
     "start_time": "2024-02-02T13:32:42.623748Z"
    }
   }
  },
  {
   "cell_type": "markdown",
   "source": [
    "### Data Type Conversion"
   ],
   "metadata": {
    "collapsed": false,
    "pycharm": {
     "name": "#%% md\n"
    }
   }
  },
  {
   "cell_type": "markdown",
   "source": [
    "As we established earlier, the columns `total_income` and `days_employed` are recognized as `float`. This implies that there are decimal values in these columns, which contradicts the nature of the data. We cannot precisely know the reason for this type, but it is likely a result of some division.\n",
    "\n",
    "For instance, the following calculations might have occurred for `days_employed`:\n",
    "`secs_employed = end_of_work - start_of_work`, where `end_of_work` and `start_of_work` are the end and start times of work in **Unix time** format.\n",
    "`days_employed = secs_employed / 60 / 60 / 24` - conversion of seconds to days.\n",
    "\n",
    "Therefore, for more convenient further processing, let's convert the `total_income` and `days_employed` data to integers using the `astype()` method."
   ],
   "metadata": {
    "collapsed": false,
    "pycharm": {
     "name": "#%% md\n"
    }
   }
  },
  {
   "cell_type": "code",
   "execution_count": 17,
   "outputs": [],
   "source": [
    "data['total_income'] = data['total_income'].astype('int')\n",
    "data['days_employed'] = data['days_employed'].astype('int')"
   ],
   "metadata": {
    "collapsed": false,
    "pycharm": {
     "name": "#%%\n"
    },
    "ExecuteTime": {
     "end_time": "2024-02-02T13:32:42.947281Z",
     "start_time": "2024-02-02T13:32:42.629424Z"
    }
   }
  },
  {
   "cell_type": "markdown",
   "source": [
    "Let's check the result obtained by calling the `info()` method."
   ],
   "metadata": {
    "collapsed": false,
    "pycharm": {
     "name": "#%% md\n"
    }
   }
  },
  {
   "cell_type": "code",
   "execution_count": 18,
   "outputs": [
    {
     "name": "stdout",
     "output_type": "stream",
     "text": [
      "<class 'pandas.core.frame.DataFrame'>\n",
      "RangeIndex: 21525 entries, 0 to 21524\n",
      "Data columns (total 12 columns):\n",
      " #   Column            Non-Null Count  Dtype \n",
      "---  ------            --------------  ----- \n",
      " 0   children          21525 non-null  int64 \n",
      " 1   days_employed     21525 non-null  int64 \n",
      " 2   dob_years         21525 non-null  int64 \n",
      " 3   education         21525 non-null  object\n",
      " 4   education_id      21525 non-null  int64 \n",
      " 5   family_status     21525 non-null  object\n",
      " 6   family_status_id  21525 non-null  int64 \n",
      " 7   gender            21525 non-null  object\n",
      " 8   income_type       21525 non-null  object\n",
      " 9   debt              21525 non-null  int64 \n",
      " 10  total_income      21525 non-null  int64 \n",
      " 11  purpose           21525 non-null  object\n",
      "dtypes: int64(7), object(5)\n",
      "memory usage: 2.0+ MB\n"
     ]
    }
   ],
   "source": [
    "data.info()"
   ],
   "metadata": {
    "collapsed": false,
    "pycharm": {
     "name": "#%%\n"
    },
    "ExecuteTime": {
     "end_time": "2024-02-02T13:32:42.951244Z",
     "start_time": "2024-02-02T13:32:42.631740Z"
    }
   }
  },
  {
   "cell_type": "markdown",
   "source": [
    "It is evident that only integer values are now retained in the `total_income` and `days_employed` columns.\n",
    "\n",
    "When we examined the [general information](#general_info) about the table, we noticed that there are many negative values in the `days_employed` column. We can assume that they arose due to the incorrect order of operands during subtraction (`start_of_work - end_of_work`). To ensure that the data reflects reality, let's convert the negative values to positive using the `abs()` function."
   ],
   "metadata": {
    "collapsed": false,
    "pycharm": {
     "name": "#%% md\n"
    }
   }
  },
  {
   "cell_type": "code",
   "execution_count": 19,
   "outputs": [],
   "source": [
    "data['days_employed'] = abs(data['days_employed'])"
   ],
   "metadata": {
    "collapsed": false,
    "pycharm": {
     "name": "#%%\n"
    },
    "ExecuteTime": {
     "end_time": "2024-02-02T13:32:42.951481Z",
     "start_time": "2024-02-02T13:32:42.638094Z"
    }
   }
  },
  {
   "cell_type": "markdown",
   "source": [
    "### Handling Duplicates"
   ],
   "metadata": {
    "collapsed": false,
    "pycharm": {
     "name": "#%% md\n"
    }
   }
  },
  {
   "cell_type": "code",
   "execution_count": 20,
   "outputs": [
    {
     "data": {
      "text/plain": "54"
     },
     "execution_count": 20,
     "metadata": {},
     "output_type": "execute_result"
    }
   ],
   "source": [
    "data.duplicated().sum()"
   ],
   "metadata": {
    "collapsed": false,
    "pycharm": {
     "name": "#%%\n"
    },
    "ExecuteTime": {
     "end_time": "2024-02-02T13:32:42.957687Z",
     "start_time": "2024-02-02T13:32:42.641703Z"
    }
   }
  },
  {
   "cell_type": "markdown",
   "source": [
    "In the table, we have 54 duplicates. It is unlikely that we would encounter different individuals with exactly the same values in all columns. Therefore, we can assume that the duplicates occurred due to a database glitch, and we can get rid of them using the `drop_duplicates()` method. Let's remove the obvious duplicates by dropping the old indices and generating new ones:"
   ],
   "metadata": {
    "collapsed": false,
    "pycharm": {
     "name": "#%% md\n"
    }
   }
  },
  {
   "cell_type": "code",
   "execution_count": 21,
   "outputs": [],
   "source": [
    "data = data.drop_duplicates().reset_index(drop=True)"
   ],
   "metadata": {
    "collapsed": false,
    "pycharm": {
     "name": "#%%\n"
    },
    "ExecuteTime": {
     "end_time": "2024-02-02T13:32:42.957847Z",
     "start_time": "2024-02-02T13:32:42.688925Z"
    }
   }
  },
  {
   "cell_type": "markdown",
   "source": [
    "Let's make sure that we have completely eliminated the obvious duplicates."
   ],
   "metadata": {
    "collapsed": false,
    "pycharm": {
     "name": "#%% md\n"
    }
   }
  },
  {
   "cell_type": "code",
   "execution_count": 22,
   "outputs": [
    {
     "data": {
      "text/plain": "0"
     },
     "execution_count": 22,
     "metadata": {},
     "output_type": "execute_result"
    }
   ],
   "source": [
    "data.duplicated().sum()"
   ],
   "metadata": {
    "collapsed": false,
    "pycharm": {
     "name": "#%%\n"
    },
    "ExecuteTime": {
     "end_time": "2024-02-02T13:32:42.963256Z",
     "start_time": "2024-02-02T13:32:42.690569Z"
    }
   }
  },
  {
   "cell_type": "markdown",
   "source": [
    "Now let's try to find implicit duplicates in each column where their presence is likely:"
   ],
   "metadata": {
    "collapsed": false,
    "pycharm": {
     "name": "#%% md\n"
    }
   }
  },
  {
   "cell_type": "code",
   "execution_count": 23,
   "outputs": [
    {
     "name": "stdout",
     "output_type": "stream",
     "text": [
      "education\n",
      "среднее                13705\n",
      "высшее                  4710\n",
      "СРЕДНЕЕ                  772\n",
      "Среднее                  711\n",
      "неоконченное высшее      668\n",
      "ВЫСШЕЕ                   273\n",
      "Высшее                   268\n",
      "начальное                250\n",
      "Неоконченное высшее       47\n",
      "НЕОКОНЧЕННОЕ ВЫСШЕЕ       29\n",
      "НАЧАЛЬНОЕ                 17\n",
      "Начальное                 15\n",
      "ученая степень             4\n",
      "Ученая степень             1\n",
      "УЧЕНАЯ СТЕПЕНЬ             1\n",
      "Name: count, dtype: int64\n",
      "\n",
      "family_status\n",
      "женат / замужем          12344\n",
      "гражданский брак          4163\n",
      "Не женат / не замужем     2810\n",
      "в разводе                 1195\n",
      "вдовец / вдова             959\n",
      "Name: count, dtype: int64\n",
      "\n",
      "income_type\n",
      "сотрудник          11091\n",
      "компаньон           5080\n",
      "пенсионер           3837\n",
      "госслужащий         1457\n",
      "безработный            2\n",
      "предприниматель        2\n",
      "студент                1\n",
      "в декрете              1\n",
      "Name: count, dtype: int64\n",
      "\n",
      "purpose\n",
      "свадьба                                   793\n",
      "на проведение свадьбы                     773\n",
      "сыграть свадьбу                           769\n",
      "операции с недвижимостью                  675\n",
      "покупка коммерческой недвижимости         662\n",
      "покупка жилья для сдачи                   652\n",
      "операции с жильем                         652\n",
      "операции с коммерческой недвижимостью     650\n",
      "покупка жилья                             646\n",
      "жилье                                     646\n",
      "покупка жилья для семьи                   638\n",
      "строительство собственной недвижимости    635\n",
      "недвижимость                              633\n",
      "операции со своей недвижимостью           627\n",
      "строительство жилой недвижимости          625\n",
      "покупка недвижимости                      621\n",
      "покупка своего жилья                      620\n",
      "строительство недвижимости                619\n",
      "ремонт жилью                              607\n",
      "покупка жилой недвижимости                606\n",
      "на покупку своего автомобиля              505\n",
      "заняться высшим образованием              496\n",
      "автомобиль                                494\n",
      "сделка с подержанным автомобилем          486\n",
      "свой автомобиль                           479\n",
      "на покупку подержанного автомобиля        478\n",
      "автомобили                                478\n",
      "на покупку автомобиля                     472\n",
      "приобретение автомобиля                   461\n",
      "дополнительное образование                460\n",
      "сделка с автомобилем                      455\n",
      "высшее образование                        452\n",
      "образование                               447\n",
      "получение дополнительного образования     447\n",
      "получение образования                     442\n",
      "профильное образование                    436\n",
      "получение высшего образования             426\n",
      "заняться образованием                     408\n",
      "Name: count, dtype: int64\n"
     ]
    }
   ],
   "source": [
    "print(\n",
    "    data['education'].value_counts(),\n",
    "    data['family_status'].value_counts(),\n",
    "    data['income_type'].value_counts(),\n",
    "    data['purpose'].value_counts(),\n",
    "    sep='\\n\\n'\n",
    ")"
   ],
   "metadata": {
    "collapsed": false,
    "pycharm": {
     "name": "#%%\n"
    },
    "ExecuteTime": {
     "end_time": "2024-02-02T13:32:42.965291Z",
     "start_time": "2024-02-02T13:32:42.704970Z"
    }
   }
  },
  {
   "cell_type": "markdown",
   "source": [
    "It is evident that there are many implicit duplicates in the `education` column, differing in case. In the `purpose` column, the same loan purposes are recorded in different forms. In all other columns, the values are unique.\n",
    "To eliminate duplicates in `education`, we will convert all values to lowercase using the `str.lower()` method. Eliminating duplicates in `purpose` requires a more complex process - [**lemmatization**](#lemmatization)."
   ],
   "metadata": {
    "collapsed": false,
    "pycharm": {
     "name": "#%% md\n"
    }
   }
  },
  {
   "cell_type": "code",
   "source": [
    "data['education'] = data['education'].str.lower()"
   ],
   "metadata": {
    "collapsed": false,
    "pycharm": {
     "name": "#%%\n"
    },
    "ExecuteTime": {
     "end_time": "2024-02-02T13:32:42.971802Z",
     "start_time": "2024-02-02T13:32:42.707504Z"
    }
   },
   "execution_count": 24,
   "outputs": []
  },
  {
   "cell_type": "markdown",
   "source": [
    "Let's check whether there are any duplicates in the table after our transformations."
   ],
   "metadata": {
    "collapsed": false,
    "pycharm": {
     "name": "#%% md\n"
    }
   }
  },
  {
   "cell_type": "code",
   "execution_count": 25,
   "outputs": [
    {
     "data": {
      "text/plain": "17"
     },
     "execution_count": 25,
     "metadata": {},
     "output_type": "execute_result"
    }
   ],
   "source": [
    "data.duplicated().sum()"
   ],
   "metadata": {
    "collapsed": false,
    "pycharm": {
     "name": "#%%\n"
    },
    "ExecuteTime": {
     "end_time": "2024-02-02T13:32:42.980840Z",
     "start_time": "2024-02-02T13:32:42.714535Z"
    }
   }
  },
  {
   "cell_type": "markdown",
   "source": [
    "Using the `drop_duplicates()` method, let's get rid of the duplicates. Afterward, we will verify if we have successfully removed all of them."
   ],
   "metadata": {
    "collapsed": false,
    "pycharm": {
     "name": "#%% md\n"
    }
   }
  },
  {
   "cell_type": "code",
   "execution_count": 26,
   "outputs": [
    {
     "data": {
      "text/plain": "0"
     },
     "execution_count": 26,
     "metadata": {},
     "output_type": "execute_result"
    }
   ],
   "source": [
    "data = data.drop_duplicates().reset_index(drop=True)\n",
    "data.duplicated().sum()"
   ],
   "metadata": {
    "collapsed": false,
    "pycharm": {
     "name": "#%%\n"
    },
    "ExecuteTime": {
     "end_time": "2024-02-02T13:32:42.988178Z",
     "start_time": "2024-02-02T13:32:42.725784Z"
    }
   }
  },
  {
   "cell_type": "markdown",
   "source": [
    "There are no duplicates in the table now. We can proceed to the next step - lemmatization."
   ],
   "metadata": {
    "collapsed": false,
    "pycharm": {
     "name": "#%% md\n"
    }
   }
  },
  {
   "cell_type": "markdown",
   "source": [
    "### <a id='lemmatization'>Lemmatization</a>"
   ],
   "metadata": {
    "collapsed": false,
    "pycharm": {
     "name": "#%% md\n"
    }
   }
  },
  {
   "cell_type": "markdown",
   "source": [
    "Let's output a list of unique values present in the `purpose` column."
   ],
   "metadata": {
    "collapsed": false,
    "pycharm": {
     "name": "#%% md\n"
    }
   }
  },
  {
   "cell_type": "code",
   "execution_count": 27,
   "outputs": [
    {
     "data": {
      "text/plain": "array(['покупка жилья', 'приобретение автомобиля',\n       'дополнительное образование', 'сыграть свадьбу',\n       'операции с жильем', 'образование', 'на проведение свадьбы',\n       'покупка жилья для семьи', 'покупка недвижимости',\n       'покупка коммерческой недвижимости', 'покупка жилой недвижимости',\n       'строительство собственной недвижимости', 'недвижимость',\n       'строительство недвижимости', 'на покупку подержанного автомобиля',\n       'на покупку своего автомобиля',\n       'операции с коммерческой недвижимостью',\n       'строительство жилой недвижимости', 'жилье',\n       'операции со своей недвижимостью', 'автомобили',\n       'заняться образованием', 'сделка с подержанным автомобилем',\n       'получение образования', 'автомобиль', 'свадьба',\n       'получение дополнительного образования', 'покупка своего жилья',\n       'операции с недвижимостью', 'получение высшего образования',\n       'свой автомобиль', 'сделка с автомобилем',\n       'профильное образование', 'высшее образование',\n       'покупка жилья для сдачи', 'на покупку автомобиля', 'ремонт жилью',\n       'заняться высшим образованием'], dtype=object)"
     },
     "execution_count": 27,
     "metadata": {},
     "output_type": "execute_result"
    }
   ],
   "source": [
    "data['purpose'].unique()"
   ],
   "metadata": {
    "collapsed": false,
    "pycharm": {
     "name": "#%%\n"
    },
    "ExecuteTime": {
     "end_time": "2024-02-02T13:32:42.989995Z",
     "start_time": "2024-02-02T13:32:42.744967Z"
    }
   }
  },
  {
   "cell_type": "markdown",
   "source": [
    "There are a total of 38 different values, but upon closer inspection, many share a common purpose with different phrasing.\n",
    "\n",
    "For example, the entire list:\n",
    "* purchase of housing (покупка жилья)\n",
    "* purchase of housing for a family (покупка жилья для семьи)\n",
    "* purchase of real estate (покупка недвижимости)\n",
    "* purchase of residential real estate (покупка жилой недвижимости)\n",
    "* construction of own real estate (строительство собственной недвижимости)\n",
    "* construction of real estate (строительство недвижимости)\n",
    "\n",
    "describes a single loan purpose – for real estate.\n",
    "\n",
    "Therefore, we can categorize the purposes into a few groups:\n",
    "* Commercial (коммерция)\n",
    "* Real estate (недвижимость)\n",
    "* Wedding (свадьба)\n",
    "* Car (автомобиль)\n",
    "* Education (образование)\n",
    "\n",
    "To move from various descriptions of the purpose to a consistent one, we will use the lemmatization process.\n",
    "\n",
    "To begin, let's import the `pymystem3` library for lemmatization."
   ],
   "metadata": {
    "collapsed": false,
    "pycharm": {
     "name": "#%% md\n"
    }
   }
  },
  {
   "cell_type": "code",
   "execution_count": 28,
   "outputs": [],
   "source": [
    "from pymystem3 import Mystem\n",
    "m = Mystem()"
   ],
   "metadata": {
    "collapsed": false,
    "pycharm": {
     "name": "#%%\n"
    },
    "ExecuteTime": {
     "end_time": "2024-02-02T13:32:42.991698Z",
     "start_time": "2024-02-02T13:32:42.749515Z"
    }
   }
  },
  {
   "cell_type": "markdown",
   "source": [
    "Let's lemmatize the words for each unique purpose:"
   ],
   "metadata": {
    "collapsed": false,
    "pycharm": {
     "name": "#%% md\n"
    }
   }
  },
  {
   "cell_type": "code",
   "execution_count": 29,
   "outputs": [
    {
     "name": "stdout",
     "output_type": "stream",
     "text": [
      "['покупка', ' ', 'жилье', '\\n']\n",
      "['приобретение', ' ', 'автомобиль', '\\n']\n",
      "['дополнительный', ' ', 'образование', '\\n']\n",
      "['сыграть', ' ', 'свадьба', '\\n']\n",
      "['операция', ' ', 'с', ' ', 'жилье', '\\n']\n",
      "['образование', '\\n']\n",
      "['на', ' ', 'проведение', ' ', 'свадьба', '\\n']\n",
      "['покупка', ' ', 'жилье', ' ', 'для', ' ', 'семья', '\\n']\n",
      "['покупка', ' ', 'недвижимость', '\\n']\n",
      "['покупка', ' ', 'коммерческий', ' ', 'недвижимость', '\\n']\n",
      "['покупка', ' ', 'жилой', ' ', 'недвижимость', '\\n']\n",
      "['строительство', ' ', 'собственный', ' ', 'недвижимость', '\\n']\n",
      "['недвижимость', '\\n']\n",
      "['строительство', ' ', 'недвижимость', '\\n']\n",
      "['на', ' ', 'покупка', ' ', 'подержать', ' ', 'автомобиль', '\\n']\n",
      "['на', ' ', 'покупка', ' ', 'свой', ' ', 'автомобиль', '\\n']\n",
      "['операция', ' ', 'с', ' ', 'коммерческий', ' ', 'недвижимость', '\\n']\n",
      "['строительство', ' ', 'жилой', ' ', 'недвижимость', '\\n']\n",
      "['жилье', '\\n']\n",
      "['операция', ' ', 'со', ' ', 'свой', ' ', 'недвижимость', '\\n']\n",
      "['автомобиль', '\\n']\n",
      "['заниматься', ' ', 'образование', '\\n']\n",
      "['сделка', ' ', 'с', ' ', 'подержанный', ' ', 'автомобиль', '\\n']\n",
      "['получение', ' ', 'образование', '\\n']\n",
      "['автомобиль', '\\n']\n",
      "['свадьба', '\\n']\n",
      "['получение', ' ', 'дополнительный', ' ', 'образование', '\\n']\n",
      "['покупка', ' ', 'свой', ' ', 'жилье', '\\n']\n",
      "['операция', ' ', 'с', ' ', 'недвижимость', '\\n']\n",
      "['получение', ' ', 'высокий', ' ', 'образование', '\\n']\n",
      "['свой', ' ', 'автомобиль', '\\n']\n",
      "['сделка', ' ', 'с', ' ', 'автомобиль', '\\n']\n",
      "['профильный', ' ', 'образование', '\\n']\n",
      "['высокий', ' ', 'образование', '\\n']\n",
      "['покупка', ' ', 'жилье', ' ', 'для', ' ', 'сдача', '\\n']\n",
      "['на', ' ', 'покупка', ' ', 'автомобиль', '\\n']\n",
      "['ремонт', ' ', 'жилье', '\\n']\n",
      "['заниматься', ' ', 'высокий', ' ', 'образование', '\\n']\n"
     ]
    }
   ],
   "source": [
    "for unique_purpose in data['purpose'].unique():\n",
    "    purpose_lemmas = m.lemmatize(unique_purpose)\n",
    "    print(purpose_lemmas)"
   ],
   "metadata": {
    "collapsed": false,
    "pycharm": {
     "name": "#%%\n"
    },
    "ExecuteTime": {
     "end_time": "2024-02-02T13:32:45.660796Z",
     "start_time": "2024-02-02T13:32:42.758381Z"
    }
   }
  },
  {
   "cell_type": "markdown",
   "source": [
    "Now we can associate the presence of a specific lemma with categories. Let's create a dictionary where the key is the lemma, and the value is our category."
   ],
   "metadata": {
    "collapsed": false,
    "pycharm": {
     "name": "#%% md\n"
    }
   }
  },
  {
   "cell_type": "code",
   "execution_count": 30,
   "outputs": [],
   "source": [
    "purpose_categories = {\n",
    "        'коммерческий': 'коммерция',\n",
    "        'жилье': 'недвижимость',\n",
    "        'недвижимость': 'недвижимость',\n",
    "        'свадьба': 'свадьба',\n",
    "        'автомобиль': 'автомобиль',\n",
    "        'образование': 'образование'\n",
    "    }"
   ],
   "metadata": {
    "collapsed": false,
    "pycharm": {
     "name": "#%%\n"
    },
    "ExecuteTime": {
     "end_time": "2024-02-02T13:32:45.665194Z",
     "start_time": "2024-02-02T13:32:45.660388Z"
    }
   }
  },
  {
   "cell_type": "markdown",
   "source": [
    "Let's write a function that takes a `purpose` value and returns the corresponding category from our dictionary. We will then apply this function to the entire `purpose` column using the `apply` method, and store the function's output in a new column called `purpose_category`."
   ],
   "metadata": {
    "collapsed": false,
    "pycharm": {
     "name": "#%% md\n"
    }
   }
  },
  {
   "cell_type": "code",
   "execution_count": 31,
   "outputs": [],
   "source": [
    "def get_purpose_category(purpose):\n",
    "    lemmas = m.lemmatize(purpose)\n",
    "    for lemma, category in purpose_categories.items():\n",
    "        if lemma in lemmas:\n",
    "            return category\n",
    "\n",
    "data['purpose_category'] = data['purpose'].apply(get_purpose_category)"
   ],
   "metadata": {
    "collapsed": false,
    "pycharm": {
     "name": "#%%\n"
    },
    "ExecuteTime": {
     "end_time": "2024-02-02T13:32:47.122227Z",
     "start_time": "2024-02-02T13:32:45.667419Z"
    }
   }
  },
  {
   "cell_type": "markdown",
   "source": [
    "**Conclusion**\n",
    "Lemmatization has allowed us to reduce the list of 38 loan purposes to 5. In the future, this will help us in hypothesis testing -\n",
    "**How do different loan purposes affect their timely repayment?**"
   ],
   "metadata": {
    "collapsed": false,
    "pycharm": {
     "name": "#%% md\n"
    }
   }
  },
  {
   "cell_type": "markdown",
   "source": [
    "One of the hypotheses we need to test sounds like this - **Is there a correlation between having children and repaying the loan on time?** This means we need to group our data based on the values in the `children` column.\n",
    "\n",
    "Let's categorize clients into two groups:\n",
    "* if the `children` value is greater than zero, it means **there are children**\n",
    "* if the `children` value is zero, the family is **childless**\n",
    "\n",
    "We will define the rules for classifying clients as a function, where the input is the number of children, and the output is the client's category."
   ],
   "metadata": {
    "collapsed": false,
    "pycharm": {
     "name": "#%% md\n"
    }
   }
  },
  {
   "cell_type": "code",
   "execution_count": 32,
   "outputs": [],
   "source": [
    "def family_children_type(children_amount):\n",
    "    if children_amount == 0:\n",
    "        return 'без детей'\n",
    "    else:\n",
    "        return 'есть дети'"
   ],
   "metadata": {
    "collapsed": false,
    "pycharm": {
     "name": "#%%\n"
    },
    "ExecuteTime": {
     "end_time": "2024-02-02T13:32:47.123496Z",
     "start_time": "2024-02-02T13:32:47.122139Z"
    }
   }
  },
  {
   "cell_type": "markdown",
   "source": [
    "Let's test the function for each rule:"
   ],
   "metadata": {
    "collapsed": false,
    "pycharm": {
     "name": "#%% md\n"
    }
   }
  },
  {
   "cell_type": "code",
   "execution_count": 33,
   "outputs": [
    {
     "name": "stdout",
     "output_type": "stream",
     "text": [
      "без детей\n",
      "есть дети\n"
     ]
    }
   ],
   "source": [
    "print(family_children_type(0))\n",
    "print(family_children_type(2))"
   ],
   "metadata": {
    "collapsed": false,
    "pycharm": {
     "name": "#%%\n"
    },
    "ExecuteTime": {
     "end_time": "2024-02-02T13:32:47.127809Z",
     "start_time": "2024-02-02T13:32:47.124420Z"
    }
   }
  },
  {
   "cell_type": "markdown",
   "source": [
    "The function works correctly. Now, let's create a separate column for the category, and in its cells, input the values returned by the function. We will use the `apply()` method for this."
   ],
   "metadata": {
    "collapsed": false,
    "pycharm": {
     "name": "#%% md\n"
    }
   }
  },
  {
   "cell_type": "code",
   "execution_count": 34,
   "outputs": [
    {
     "data": {
      "text/plain": "   children  days_employed  dob_years education  education_id  \\\n0         1           8437         42    высшее             0   \n1         1           4024         36   среднее             1   \n2         0           5623         33   среднее             1   \n3         3           4124         32   среднее             1   \n4         0         340266         53   среднее             1   \n\n      family_status  family_status_id gender income_type  debt  total_income  \\\n0   женат / замужем                 0      F   сотрудник     0        253875   \n1   женат / замужем                 0      F   сотрудник     0        112080   \n2   женат / замужем                 0      M   сотрудник     0        145885   \n3   женат / замужем                 0      M   сотрудник     0        267628   \n4  гражданский брак                 1      F   пенсионер     0        158616   \n\n                      purpose purpose_category children_category  \n0               покупка жилья     недвижимость         есть дети  \n1     приобретение автомобиля       автомобиль         есть дети  \n2               покупка жилья     недвижимость         без детей  \n3  дополнительное образование      образование         есть дети  \n4             сыграть свадьбу          свадьба         без детей  ",
      "text/html": "<div>\n<style scoped>\n    .dataframe tbody tr th:only-of-type {\n        vertical-align: middle;\n    }\n\n    .dataframe tbody tr th {\n        vertical-align: top;\n    }\n\n    .dataframe thead th {\n        text-align: right;\n    }\n</style>\n<table border=\"1\" class=\"dataframe\">\n  <thead>\n    <tr style=\"text-align: right;\">\n      <th></th>\n      <th>children</th>\n      <th>days_employed</th>\n      <th>dob_years</th>\n      <th>education</th>\n      <th>education_id</th>\n      <th>family_status</th>\n      <th>family_status_id</th>\n      <th>gender</th>\n      <th>income_type</th>\n      <th>debt</th>\n      <th>total_income</th>\n      <th>purpose</th>\n      <th>purpose_category</th>\n      <th>children_category</th>\n    </tr>\n  </thead>\n  <tbody>\n    <tr>\n      <th>0</th>\n      <td>1</td>\n      <td>8437</td>\n      <td>42</td>\n      <td>высшее</td>\n      <td>0</td>\n      <td>женат / замужем</td>\n      <td>0</td>\n      <td>F</td>\n      <td>сотрудник</td>\n      <td>0</td>\n      <td>253875</td>\n      <td>покупка жилья</td>\n      <td>недвижимость</td>\n      <td>есть дети</td>\n    </tr>\n    <tr>\n      <th>1</th>\n      <td>1</td>\n      <td>4024</td>\n      <td>36</td>\n      <td>среднее</td>\n      <td>1</td>\n      <td>женат / замужем</td>\n      <td>0</td>\n      <td>F</td>\n      <td>сотрудник</td>\n      <td>0</td>\n      <td>112080</td>\n      <td>приобретение автомобиля</td>\n      <td>автомобиль</td>\n      <td>есть дети</td>\n    </tr>\n    <tr>\n      <th>2</th>\n      <td>0</td>\n      <td>5623</td>\n      <td>33</td>\n      <td>среднее</td>\n      <td>1</td>\n      <td>женат / замужем</td>\n      <td>0</td>\n      <td>M</td>\n      <td>сотрудник</td>\n      <td>0</td>\n      <td>145885</td>\n      <td>покупка жилья</td>\n      <td>недвижимость</td>\n      <td>без детей</td>\n    </tr>\n    <tr>\n      <th>3</th>\n      <td>3</td>\n      <td>4124</td>\n      <td>32</td>\n      <td>среднее</td>\n      <td>1</td>\n      <td>женат / замужем</td>\n      <td>0</td>\n      <td>M</td>\n      <td>сотрудник</td>\n      <td>0</td>\n      <td>267628</td>\n      <td>дополнительное образование</td>\n      <td>образование</td>\n      <td>есть дети</td>\n    </tr>\n    <tr>\n      <th>4</th>\n      <td>0</td>\n      <td>340266</td>\n      <td>53</td>\n      <td>среднее</td>\n      <td>1</td>\n      <td>гражданский брак</td>\n      <td>1</td>\n      <td>F</td>\n      <td>пенсионер</td>\n      <td>0</td>\n      <td>158616</td>\n      <td>сыграть свадьбу</td>\n      <td>свадьба</td>\n      <td>без детей</td>\n    </tr>\n  </tbody>\n</table>\n</div>"
     },
     "metadata": {},
     "output_type": "display_data"
    }
   ],
   "source": [
    "data['children_category'] = data['children'].apply(family_children_type)\n",
    "display(data.head())"
   ],
   "metadata": {
    "collapsed": false,
    "pycharm": {
     "name": "#%%\n"
    },
    "ExecuteTime": {
     "end_time": "2024-02-02T13:32:47.137317Z",
     "start_time": "2024-02-02T13:32:47.126850Z"
    }
   }
  },
  {
   "cell_type": "markdown",
   "source": [
    "The data is categorized based on the presence of children for clients, and we can also categorize the data based on monthly income. Since we don't have reference points to divide the data into poor, middle, and rich classes, we will use percentiles to divide the data into three groups. Let's find the necessary points:"
   ],
   "metadata": {
    "collapsed": false,
    "pycharm": {
     "name": "#%% md\n"
    }
   }
  },
  {
   "cell_type": "code",
   "execution_count": 35,
   "outputs": [
    {
     "data": {
      "text/plain": "count    2.145400e+04\nmean     1.653196e+05\nstd      9.818730e+04\nmin      2.066700e+04\n33%      1.185140e+05\n50%      1.425940e+05\n66%      1.723570e+05\nmax      2.265604e+06\nName: total_income, dtype: float64"
     },
     "execution_count": 35,
     "metadata": {},
     "output_type": "execute_result"
    }
   ],
   "source": [
    "data['total_income'].describe(percentiles=[0.33, 0.66])"
   ],
   "metadata": {
    "collapsed": false,
    "pycharm": {
     "name": "#%%\n"
    },
    "ExecuteTime": {
     "end_time": "2024-02-02T13:32:47.180201Z",
     "start_time": "2024-02-02T13:32:47.137964Z"
    }
   }
  },
  {
   "cell_type": "markdown",
   "source": [
    "It's evident how we can divide the data into three categories using percentiles:\n",
    "* **Q1** - `total_income < 118,514`\n",
    "* **Q2** - `118,514 <= total_income < 172,357`\n",
    "* **Q3** - `total_income >= 172,357`\n",
    "\n",
    "Now we can write a function that will classify clients based on `total_income`. The function takes the amount of monthly income as input and returns the category."
   ],
   "metadata": {
    "collapsed": false,
    "pycharm": {
     "name": "#%% md\n"
    }
   }
  },
  {
   "cell_type": "code",
   "execution_count": 36,
   "outputs": [],
   "source": [
    "def income_category(income):\n",
    "    if income < 118514:\n",
    "        return 'Q1'\n",
    "    elif 118514 <= income < 172357:\n",
    "        return 'Q2'\n",
    "    else:\n",
    "        return 'Q3'"
   ],
   "metadata": {
    "collapsed": false,
    "pycharm": {
     "name": "#%%\n"
    },
    "ExecuteTime": {
     "end_time": "2024-02-02T13:32:47.189161Z",
     "start_time": "2024-02-02T13:32:47.143978Z"
    }
   }
  },
  {
   "cell_type": "markdown",
   "source": [
    "Let's check if the function works correctly:"
   ],
   "metadata": {
    "collapsed": false,
    "pycharm": {
     "name": "#%% md\n"
    }
   }
  },
  {
   "cell_type": "code",
   "execution_count": 37,
   "outputs": [
    {
     "name": "stdout",
     "output_type": "stream",
     "text": [
      "Q1\n",
      "Q2\n",
      "Q3\n"
     ]
    }
   ],
   "source": [
    "print(income_category(250))\n",
    "print(income_category(125550))\n",
    "print(income_category(345550))"
   ],
   "metadata": {
    "collapsed": false,
    "pycharm": {
     "name": "#%%\n"
    },
    "ExecuteTime": {
     "end_time": "2024-02-02T13:32:47.189499Z",
     "start_time": "2024-02-02T13:32:47.146075Z"
    }
   }
  },
  {
   "cell_type": "markdown",
   "source": [
    "The function works correctly. Now we can apply it to the entire dataset:"
   ],
   "metadata": {
    "collapsed": false,
    "pycharm": {
     "name": "#%% md\n"
    }
   }
  },
  {
   "cell_type": "code",
   "execution_count": 38,
   "outputs": [
    {
     "data": {
      "text/plain": "   children  days_employed  dob_years education  education_id  \\\n0         1           8437         42    высшее             0   \n1         1           4024         36   среднее             1   \n2         0           5623         33   среднее             1   \n3         3           4124         32   среднее             1   \n4         0         340266         53   среднее             1   \n\n      family_status  family_status_id gender income_type  debt  total_income  \\\n0   женат / замужем                 0      F   сотрудник     0        253875   \n1   женат / замужем                 0      F   сотрудник     0        112080   \n2   женат / замужем                 0      M   сотрудник     0        145885   \n3   женат / замужем                 0      M   сотрудник     0        267628   \n4  гражданский брак                 1      F   пенсионер     0        158616   \n\n                      purpose purpose_category children_category  \\\n0               покупка жилья     недвижимость         есть дети   \n1     приобретение автомобиля       автомобиль         есть дети   \n2               покупка жилья     недвижимость         без детей   \n3  дополнительное образование      образование         есть дети   \n4             сыграть свадьбу          свадьба         без детей   \n\n  income_category  \n0              Q3  \n1              Q1  \n2              Q2  \n3              Q3  \n4              Q2  ",
      "text/html": "<div>\n<style scoped>\n    .dataframe tbody tr th:only-of-type {\n        vertical-align: middle;\n    }\n\n    .dataframe tbody tr th {\n        vertical-align: top;\n    }\n\n    .dataframe thead th {\n        text-align: right;\n    }\n</style>\n<table border=\"1\" class=\"dataframe\">\n  <thead>\n    <tr style=\"text-align: right;\">\n      <th></th>\n      <th>children</th>\n      <th>days_employed</th>\n      <th>dob_years</th>\n      <th>education</th>\n      <th>education_id</th>\n      <th>family_status</th>\n      <th>family_status_id</th>\n      <th>gender</th>\n      <th>income_type</th>\n      <th>debt</th>\n      <th>total_income</th>\n      <th>purpose</th>\n      <th>purpose_category</th>\n      <th>children_category</th>\n      <th>income_category</th>\n    </tr>\n  </thead>\n  <tbody>\n    <tr>\n      <th>0</th>\n      <td>1</td>\n      <td>8437</td>\n      <td>42</td>\n      <td>высшее</td>\n      <td>0</td>\n      <td>женат / замужем</td>\n      <td>0</td>\n      <td>F</td>\n      <td>сотрудник</td>\n      <td>0</td>\n      <td>253875</td>\n      <td>покупка жилья</td>\n      <td>недвижимость</td>\n      <td>есть дети</td>\n      <td>Q3</td>\n    </tr>\n    <tr>\n      <th>1</th>\n      <td>1</td>\n      <td>4024</td>\n      <td>36</td>\n      <td>среднее</td>\n      <td>1</td>\n      <td>женат / замужем</td>\n      <td>0</td>\n      <td>F</td>\n      <td>сотрудник</td>\n      <td>0</td>\n      <td>112080</td>\n      <td>приобретение автомобиля</td>\n      <td>автомобиль</td>\n      <td>есть дети</td>\n      <td>Q1</td>\n    </tr>\n    <tr>\n      <th>2</th>\n      <td>0</td>\n      <td>5623</td>\n      <td>33</td>\n      <td>среднее</td>\n      <td>1</td>\n      <td>женат / замужем</td>\n      <td>0</td>\n      <td>M</td>\n      <td>сотрудник</td>\n      <td>0</td>\n      <td>145885</td>\n      <td>покупка жилья</td>\n      <td>недвижимость</td>\n      <td>без детей</td>\n      <td>Q2</td>\n    </tr>\n    <tr>\n      <th>3</th>\n      <td>3</td>\n      <td>4124</td>\n      <td>32</td>\n      <td>среднее</td>\n      <td>1</td>\n      <td>женат / замужем</td>\n      <td>0</td>\n      <td>M</td>\n      <td>сотрудник</td>\n      <td>0</td>\n      <td>267628</td>\n      <td>дополнительное образование</td>\n      <td>образование</td>\n      <td>есть дети</td>\n      <td>Q3</td>\n    </tr>\n    <tr>\n      <th>4</th>\n      <td>0</td>\n      <td>340266</td>\n      <td>53</td>\n      <td>среднее</td>\n      <td>1</td>\n      <td>гражданский брак</td>\n      <td>1</td>\n      <td>F</td>\n      <td>пенсионер</td>\n      <td>0</td>\n      <td>158616</td>\n      <td>сыграть свадьбу</td>\n      <td>свадьба</td>\n      <td>без детей</td>\n      <td>Q2</td>\n    </tr>\n  </tbody>\n</table>\n</div>"
     },
     "execution_count": 38,
     "metadata": {},
     "output_type": "execute_result"
    }
   ],
   "source": [
    "data['income_category'] = data['total_income'].apply(income_category)\n",
    "data.head()"
   ],
   "metadata": {
    "collapsed": false,
    "pycharm": {
     "name": "#%%\n"
    },
    "ExecuteTime": {
     "end_time": "2024-02-02T13:32:47.190361Z",
     "start_time": "2024-02-02T13:32:47.151555Z"
    }
   }
  },
  {
   "cell_type": "markdown",
   "source": [
    "**Conclusion**\n",
    "We have successfully classified the data based on the presence of children for clients, dividing the data into two groups - **\"have children\"** and **\"childless\"**. We also classified clients based on monthly income, dividing them into three groups: **Q1** - the bottom 33% of earners, **Q3** - the top 33% of earners, and **Q2** - all others. These data manipulations are necessary to make statistically significant conclusions when testing hypotheses."
   ],
   "metadata": {
    "collapsed": false,
    "pycharm": {
     "name": "#%% md\n"
    }
   }
  },
  {
   "cell_type": "markdown",
   "source": [
    "## Step 3. Answer the questions"
   ],
   "metadata": {
    "collapsed": false,
    "pycharm": {
     "name": "#%% md\n"
    }
   }
  },
  {
   "cell_type": "markdown",
   "source": [
    "**Is there a correlation between having children and timely loan repayment?**\n",
    "\n",
    "To answer this question, we need to group the data by `children_category`. For each category, calculate the percentage of clients who had a debt on the loan."
   ],
   "metadata": {
    "collapsed": false,
    "pycharm": {
     "name": "#%% md\n"
    }
   }
  },
  {
   "cell_type": "code",
   "execution_count": 39,
   "outputs": [
    {
     "name": "stdout",
     "output_type": "stream",
     "text": [
      "children_category\n",
      "без детей    0.075438\n",
      "есть дети    0.092082\n",
      "dtype: float64\n"
     ]
    }
   ],
   "source": [
    "data_by_children = data.groupby('children_category')\n",
    "print(data_by_children['debt'].sum() / data_by_children['children'].count())"
   ],
   "metadata": {
    "collapsed": false,
    "pycharm": {
     "name": "#%%\n"
    },
    "ExecuteTime": {
     "end_time": "2024-02-02T13:32:47.190541Z",
     "start_time": "2024-02-02T13:32:47.158570Z"
    }
   }
  },
  {
   "cell_type": "markdown",
   "source": [
    "**Conclusion**\n",
    "Clients without children repay loans approximately 20% more often."
   ],
   "metadata": {
    "collapsed": false,
    "pycharm": {
     "name": "#%% md\n"
    }
   }
  },
  {
   "cell_type": "markdown",
   "source": [
    "**Is there a correlation between marital status and timely loan repayment?**"
   ],
   "metadata": {
    "collapsed": false,
    "pycharm": {
     "name": "#%% md\n"
    }
   }
  },
  {
   "cell_type": "code",
   "execution_count": 40,
   "outputs": [
    {
     "name": "stdout",
     "output_type": "stream",
     "text": [
      "0.08115036822970076\n",
      "family_status\n",
      "Не женат / не замужем    0.097509\n",
      "в разводе                0.071130\n",
      "вдовец / вдова           0.065693\n",
      "гражданский брак         0.093471\n",
      "женат / замужем          0.075452\n",
      "dtype: float64\n"
     ]
    }
   ],
   "source": [
    "data_by_family_status = data.groupby('family_status')\n",
    "print(data['debt'].sum() / data['family_status'].count())\n",
    "print(data_by_family_status['debt'].sum() / data_by_family_status['family_status'].count())"
   ],
   "metadata": {
    "collapsed": false,
    "pycharm": {
     "name": "#%%\n"
    },
    "ExecuteTime": {
     "end_time": "2024-02-02T13:32:47.222680Z",
     "start_time": "2024-02-02T13:32:47.164648Z"
    }
   }
  },
  {
   "cell_type": "markdown",
   "source": [
    "**Conclusion**\n",
    "The percentage of non-repayment varies depending on marital status within the range of 6.56-9.75%. According to the data, the most reliable clients are widows and widowers, while the least reliable are those not married."
   ],
   "metadata": {
    "collapsed": false,
    "pycharm": {
     "name": "#%% md\n"
    }
   }
  },
  {
   "cell_type": "markdown",
   "source": [
    "**Is there a correlation between income level and timely loan repayment?**"
   ],
   "metadata": {
    "collapsed": false,
    "pycharm": {
     "name": "#%% md\n"
    }
   }
  },
  {
   "cell_type": "code",
   "execution_count": 41,
   "outputs": [
    {
     "name": "stdout",
     "output_type": "stream",
     "text": [
      "income_category\n",
      "Q1    0.081085\n",
      "Q2    0.088431\n",
      "Q3    0.074212\n",
      "dtype: float64\n"
     ]
    }
   ],
   "source": [
    "data_by_income = data.groupby('income_category')\n",
    "print(data_by_income['debt'].sum() / data_by_income['income_category'].count())"
   ],
   "metadata": {
    "collapsed": false,
    "pycharm": {
     "name": "#%%\n"
    },
    "ExecuteTime": {
     "end_time": "2024-02-02T13:32:47.223229Z",
     "start_time": "2024-02-02T13:32:47.169700Z"
    }
   }
  },
  {
   "cell_type": "markdown",
   "source": [
    "**Conclusion**\n",
    "There is a difference, but it is not as significant as in the previous points. However, we can say that the most responsible borrowers are individuals with a high income level."
   ],
   "metadata": {
    "collapsed": false,
    "pycharm": {
     "name": "#%% md\n"
    }
   }
  },
  {
   "cell_type": "markdown",
   "source": [
    "**How do different loan purposes affect their timely repayment?**"
   ],
   "metadata": {
    "collapsed": false,
    "pycharm": {
     "name": "#%% md\n"
    }
   }
  },
  {
   "cell_type": "code",
   "execution_count": 42,
   "outputs": [
    {
     "name": "stdout",
     "output_type": "stream",
     "text": [
      "purpose_category\n",
      "автомобиль      0.093590\n",
      "коммерция       0.075515\n",
      "недвижимость    0.071895\n",
      "образование     0.092200\n",
      "свадьба         0.080034\n",
      "dtype: float64\n"
     ]
    }
   ],
   "source": [
    "data_by_purpose = data.groupby('purpose_category')\n",
    "print(data_by_purpose['debt'].sum() / data_by_purpose['purpose'].count())"
   ],
   "metadata": {
    "collapsed": false,
    "pycharm": {
     "name": "#%%\n"
    },
    "ExecuteTime": {
     "end_time": "2024-02-02T13:32:47.223437Z",
     "start_time": "2024-02-02T13:32:47.174036Z"
    }
   }
  },
  {
   "cell_type": "markdown",
   "source": [
    "**Conclusion**\n",
    "Loan purposes do affect their repayment. Clients taking out loans for education, understandably, have more debt, as they likely do not have a stable income yet. Also, loans for consumer purposes (car, wedding) indicate a lower income level and a worse ability to repay debts, while investment purposes (commercial and real estate) correlate with better repayments."
   ],
   "metadata": {
    "collapsed": false,
    "pycharm": {
     "name": "#%% md\n"
    }
   }
  },
  {
   "cell_type": "markdown",
   "source": [
    "## Step 4. General Conclusion"
   ],
   "metadata": {
    "collapsed": false,
    "pycharm": {
     "name": "#%% md\n"
    }
   }
  },
  {
   "cell_type": "markdown",
   "source": [
    "We have tested 4 hypotheses and found the following:\n",
    "1. Clients without children repay loans more often than those with children.\n",
    "2. Clients who are not married are the least likely to repay loans, while widows and widowers have proven to be reliable borrowers.\n",
    "3. As expected, individuals with a high monthly income are the most responsible in terms of loan repayment.\n",
    "4. Investment purposes (commercial and real estate) correlate with better repayments.\n",
    "\n",
    "The percentage of problematic borrowers varies within the range of 6.6-9.8% depending on the group, with an overall percentage of 8% across all data. It seems that we cannot draw any conclusions just by looking at these numbers; at the very least, we need to understand what to compare them with. To claim any dependence between repayments and a specific group, a statistical analysis is needed, of which I currently have limited knowledge."
   ],
   "metadata": {
    "collapsed": false,
    "pycharm": {
     "name": "#%% md\n"
    }
   }
  }
 ],
 "metadata": {
  "kernelspec": {
   "display_name": "Python 3 (ipykernel)",
   "language": "python",
   "name": "python3"
  },
  "language_info": {
   "codemirror_mode": {
    "name": "ipython",
    "version": 3
   },
   "file_extension": ".py",
   "mimetype": "text/x-python",
   "name": "python",
   "nbconvert_exporter": "python",
   "pygments_lexer": "ipython3",
   "version": "3.10.0"
  }
 },
 "nbformat": 4,
 "nbformat_minor": 1
}
